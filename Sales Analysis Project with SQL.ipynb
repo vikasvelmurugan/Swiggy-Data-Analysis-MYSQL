{
 "cells": [
  {
   "cell_type": "code",
   "execution_count": 1,
   "id": "8d117c56",
   "metadata": {},
   "outputs": [
    {
     "name": "stdout",
     "output_type": "stream",
     "text": [
      "Requirement already satisfied: mysql-connector-python in c:\\users\\priya\\miniconda3\\lib\\site-packages (8.0.33)\n",
      "Requirement already satisfied: protobuf<=3.20.3,>=3.11.0 in c:\\users\\priya\\miniconda3\\lib\\site-packages (from mysql-connector-python) (3.20.3)\n"
     ]
    }
   ],
   "source": [
    "## to install required package to connect to the mysql workbench\n",
    "!pip install mysql-connector-python"
   ]
  },
  {
   "cell_type": "code",
   "execution_count": 2,
   "id": "c5a6353b",
   "metadata": {},
   "outputs": [],
   "source": [
    "import mysql.connector as conn"
   ]
  },
  {
   "cell_type": "code",
   "execution_count": 4,
   "id": "cf121288",
   "metadata": {},
   "outputs": [],
   "source": [
    "## connection request by passing user and password\n",
    "## password of your mysql workbench\n",
    "mydb = conn.connect(host = \"localhost\", user='vikas', password=\"password\")"
   ]
  },
  {
   "cell_type": "code",
   "execution_count": 5,
   "id": "4236c38d",
   "metadata": {},
   "outputs": [],
   "source": [
    "## create a cursor or pointer\n",
    "cursor = mydb.cursor()"
   ]
  },
  {
   "cell_type": "code",
   "execution_count": 6,
   "id": "b623794d",
   "metadata": {},
   "outputs": [],
   "source": [
    "## to execute any sql command in this file\n",
    "cursor.execute('SHOW DATABASES')"
   ]
  },
  {
   "cell_type": "code",
   "execution_count": 7,
   "id": "b3c69e17",
   "metadata": {},
   "outputs": [
    {
     "data": {
      "text/plain": [
       "[('information_schema',),\n",
       " ('mysql',),\n",
       " ('performance_schema',),\n",
       " ('sakila',),\n",
       " ('swiggydata',),\n",
       " ('sys',),\n",
       " ('world',)]"
      ]
     },
     "execution_count": 7,
     "metadata": {},
     "output_type": "execute_result"
    }
   ],
   "source": [
    "cursor.fetchall()"
   ]
  },
  {
   "cell_type": "code",
   "execution_count": 8,
   "id": "8501d772",
   "metadata": {},
   "outputs": [],
   "source": [
    "cursor.execute('CREATE DATABASE swiggy')"
   ]
  },
  {
   "cell_type": "code",
   "execution_count": 9,
   "id": "132e6f4e",
   "metadata": {},
   "outputs": [],
   "source": [
    "cursor.execute('CREATE TABLE swiggy.swiggyOneusers_signup(userid integer,swiggyone_signup_date date)')"
   ]
  },
  {
   "cell_type": "code",
   "execution_count": 10,
   "id": "6d94324b",
   "metadata": {},
   "outputs": [],
   "source": [
    "cursor.execute('USE swiggy')"
   ]
  },
  {
   "cell_type": "code",
   "execution_count": 11,
   "id": "c3fb0419",
   "metadata": {},
   "outputs": [],
   "source": [
    "cursor.execute('SHOW TABLES')"
   ]
  },
  {
   "cell_type": "code",
   "execution_count": 12,
   "id": "38925e03",
   "metadata": {},
   "outputs": [
    {
     "data": {
      "text/plain": [
       "[('swiggyoneusers_signup',)]"
      ]
     },
     "execution_count": 12,
     "metadata": {},
     "output_type": "execute_result"
    }
   ],
   "source": [
    "cursor.fetchall()"
   ]
  },
  {
   "cell_type": "code",
   "execution_count": 13,
   "id": "c43dc403",
   "metadata": {},
   "outputs": [],
   "source": [
    "cursor.execute('INSERT INTO swiggy.swiggyOneusers_signup(userid,swiggyone_signup_date) VALUES (1,\"2017-09-22\"),(3,\"2017-04-21\")');"
   ]
  },
  {
   "cell_type": "code",
   "execution_count": 14,
   "id": "3b739ad2",
   "metadata": {},
   "outputs": [],
   "source": [
    "## to make the changes reflected in the mysql workbench\n",
    "## after every insertion in the table\n",
    "mydb.commit()"
   ]
  },
  {
   "cell_type": "code",
   "execution_count": 15,
   "id": "af44f8d9",
   "metadata": {},
   "outputs": [
    {
     "data": {
      "text/plain": [
       "[(1, datetime.date(2017, 9, 22)), (3, datetime.date(2017, 4, 21))]"
      ]
     },
     "execution_count": 15,
     "metadata": {},
     "output_type": "execute_result"
    }
   ],
   "source": [
    "cursor.execute('SELECT * FROM swiggy.swiggyOneusers_signup')\n",
    "cursor.fetchall()"
   ]
  },
  {
   "cell_type": "code",
   "execution_count": 16,
   "id": "9ca31877",
   "metadata": {},
   "outputs": [
    {
     "data": {
      "text/plain": [
       "[('swiggyoneusers_signup',), ('users',)]"
      ]
     },
     "execution_count": 16,
     "metadata": {},
     "output_type": "execute_result"
    }
   ],
   "source": [
    "cursor.execute('CREATE TABLE swiggy.users(userid integer,signup_date date)')\n",
    "cursor.execute('USE SWIGGY')\n",
    "cursor.execute('SHOW TABLES');\n",
    "cursor.fetchall()"
   ]
  },
  {
   "cell_type": "code",
   "execution_count": 17,
   "id": "e6fa580a",
   "metadata": {},
   "outputs": [
    {
     "data": {
      "text/plain": [
       "[(1, datetime.date(2014, 2, 9)),\n",
       " (2, datetime.date(2015, 1, 15)),\n",
       " (3, datetime.date(2014, 4, 11))]"
      ]
     },
     "execution_count": 17,
     "metadata": {},
     "output_type": "execute_result"
    }
   ],
   "source": [
    "cursor.execute('INSERT INTO SWIGGY.users(userid,signup_date) VALUES (1,\"2014-02-09\"),(2,\"2015-01-15\"),(3,\"2014-04-11\")')\n",
    "cursor.execute('SELECT * FROM swiggy.users')\n",
    "cursor.fetchall()"
   ]
  },
  {
   "cell_type": "code",
   "execution_count": 18,
   "id": "b5d285ad",
   "metadata": {},
   "outputs": [],
   "source": [
    "mydb.commit()"
   ]
  },
  {
   "cell_type": "code",
   "execution_count": 19,
   "id": "5460e43d",
   "metadata": {},
   "outputs": [
    {
     "data": {
      "text/plain": [
       "[('sales',), ('swiggyoneusers_signup',), ('users',)]"
      ]
     },
     "execution_count": 19,
     "metadata": {},
     "output_type": "execute_result"
    }
   ],
   "source": [
    "cursor.execute('CREATE TABLE SWIGGY.sales(userid integer,created_date date,product_id integer)')\n",
    "cursor.execute('USE SWIGGY')\n",
    "cursor.execute('SHOW TABLES');\n",
    "cursor.fetchall()"
   ]
  },
  {
   "cell_type": "code",
   "execution_count": 20,
   "id": "6490250c",
   "metadata": {},
   "outputs": [],
   "source": [
    "cursor.execute('INSERT INTO SWIGGY.sales(userid,created_date,product_id) VALUES (1,\"2017-04-19\",2), (3,\"2019-12-18\",1),(2,\"2020-07-20\",3)')"
   ]
  },
  {
   "cell_type": "code",
   "execution_count": 22,
   "id": "1d362858",
   "metadata": {},
   "outputs": [],
   "source": [
    "cursor.execute('INSERT INTO swiggy.sales(userid,created_date,product_id) VALUES (1,\"2019-10-23\",2), (1,\"2018-03-19\",3), (3,\"2016-12-20\",2), (1,\"2016-09-11\",1), (1,\"2016-05-20\",3)')\n",
    "cursor.execute('INSERT INTO swiggy.sales(userid,created_date,product_id) VALUES (2,\"2017-09-24\",1),(1,\"2017-03-11\",2),(1,\"2016-03-11\",1),(3,\"2016-11-10\",1),(3,\"2017-12-07\",2),(3,\"2016-12-15\",2),(2,\"2017-11-08\",2),(2,\"2018-09-10\",3)')"
   ]
  },
  {
   "cell_type": "code",
   "execution_count": 23,
   "id": "b39d41fe",
   "metadata": {},
   "outputs": [
    {
     "data": {
      "text/plain": [
       "[(1, datetime.date(2017, 4, 19), 2),\n",
       " (3, datetime.date(2019, 12, 18), 1),\n",
       " (2, datetime.date(2020, 7, 20), 3),\n",
       " (1, datetime.date(2019, 10, 23), 2),\n",
       " (1, datetime.date(2018, 3, 19), 3),\n",
       " (3, datetime.date(2016, 12, 20), 2),\n",
       " (1, datetime.date(2016, 9, 11), 1),\n",
       " (1, datetime.date(2016, 5, 20), 3),\n",
       " (2, datetime.date(2017, 9, 24), 1),\n",
       " (1, datetime.date(2017, 3, 11), 2),\n",
       " (1, datetime.date(2016, 3, 11), 1),\n",
       " (3, datetime.date(2016, 11, 10), 1),\n",
       " (3, datetime.date(2017, 12, 7), 2),\n",
       " (3, datetime.date(2016, 12, 15), 2),\n",
       " (2, datetime.date(2017, 11, 8), 2),\n",
       " (2, datetime.date(2018, 9, 10), 3)]"
      ]
     },
     "execution_count": 23,
     "metadata": {},
     "output_type": "execute_result"
    }
   ],
   "source": [
    "cursor.execute('SELECT * FROM swiggy.sales')\n",
    "cursor.fetchall()"
   ]
  },
  {
   "cell_type": "code",
   "execution_count": 24,
   "id": "5ff1bbf8",
   "metadata": {},
   "outputs": [],
   "source": [
    "mydb.commit()"
   ]
  },
  {
   "cell_type": "code",
   "execution_count": 25,
   "id": "b21dbb2a",
   "metadata": {},
   "outputs": [
    {
     "data": {
      "text/plain": [
       "[('product',), ('sales',), ('swiggyoneusers_signup',), ('users',)]"
      ]
     },
     "execution_count": 25,
     "metadata": {},
     "output_type": "execute_result"
    }
   ],
   "source": [
    "cursor.execute('CREATE TABLE swiggy.product(product_id integer,product_name text,price integer)')\n",
    "cursor.execute('USE swiggy')\n",
    "cursor.execute('SHOW TABLES');\n",
    "cursor.fetchall()"
   ]
  },
  {
   "cell_type": "code",
   "execution_count": 26,
   "id": "74935c3c",
   "metadata": {},
   "outputs": [],
   "source": [
    "cursor.execute('INSERT INTO swiggy.product(product_id,product_name,price) VALUES (1,\"p1\",980),(2,\"p2\",870),(3,\"p3\",330)')"
   ]
  },
  {
   "cell_type": "code",
   "execution_count": 27,
   "id": "945e9180",
   "metadata": {},
   "outputs": [
    {
     "data": {
      "text/plain": [
       "[(1, 'p1', 980), (2, 'p2', 870), (3, 'p3', 330)]"
      ]
     },
     "execution_count": 27,
     "metadata": {},
     "output_type": "execute_result"
    }
   ],
   "source": [
    "cursor.execute('SELECT * FROM swiggy.product')\n",
    "cursor.fetchall()"
   ]
  },
  {
   "cell_type": "code",
   "execution_count": 28,
   "id": "f18aba44",
   "metadata": {},
   "outputs": [],
   "source": [
    "mydb.commit()"
   ]
  },
  {
   "cell_type": "code",
   "execution_count": 29,
   "id": "a232ad1b",
   "metadata": {},
   "outputs": [
    {
     "data": {
      "text/plain": [
       "[(1, Decimal('5230')), (3, Decimal('4570')), (2, Decimal('2510'))]"
      ]
     },
     "execution_count": 29,
     "metadata": {},
     "output_type": "execute_result"
    }
   ],
   "source": [
    "## Sales analysis\n",
    "## 1. What is the total amount each customer is spending on Swiggy?\n",
    "cursor.execute('select s.userid, SUM(p.price) totalAmount FROM sales s INNER JOIN product p ON s.product_id = p.product_id GROUP BY s.userid')\n",
    "cursor.fetchall()"
   ]
  },
  {
   "cell_type": "code",
   "execution_count": null,
   "id": "6666afc6",
   "metadata": {},
   "outputs": [],
   "source": [
    "## 2. What is the most purchased item on the menubar\n",
    "## check sql file for solution"
   ]
  }
 ],
 "metadata": {
  "kernelspec": {
   "display_name": "Python 3 (ipykernel)",
   "language": "python",
   "name": "python3"
  },
  "language_info": {
   "codemirror_mode": {
    "name": "ipython",
    "version": 3
   },
   "file_extension": ".py",
   "mimetype": "text/x-python",
   "name": "python",
   "nbconvert_exporter": "python",
   "pygments_lexer": "ipython3",
   "version": "3.10.8"
  }
 },
 "nbformat": 4,
 "nbformat_minor": 5
}
